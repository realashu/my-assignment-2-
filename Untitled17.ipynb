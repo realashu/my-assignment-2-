{
 "cells": [
  {
   "cell_type": "code",
   "execution_count": 19,
   "id": "ce635c9a-0fc0-4f77-866c-4a7522a42627",
   "metadata": {},
   "outputs": [],
   "source": [
    "#q1"
   ]
  },
  {
   "cell_type": "code",
   "execution_count": 16,
   "id": "8f1657f0-00fd-4557-abe9-9045e7ee18de",
   "metadata": {},
   "outputs": [
    {
     "data": {
      "text/plain": [
       "[0,\n",
       " 1,\n",
       " 2,\n",
       " 3,\n",
       " 4,\n",
       " 5,\n",
       " 6,\n",
       " 7,\n",
       " 8,\n",
       " 9,\n",
       " 10,\n",
       " 11,\n",
       " 12,\n",
       " 13,\n",
       " 14,\n",
       " 15,\n",
       " 16,\n",
       " 17,\n",
       " 18,\n",
       " 19,\n",
       " 20,\n",
       " 21,\n",
       " 22,\n",
       " 23,\n",
       " 24,\n",
       " 25]"
      ]
     },
     "execution_count": 16,
     "metadata": {},
     "output_type": "execute_result"
    }
   ],
   "source": [
    "list(range (26))"
   ]
  },
  {
   "cell_type": "code",
   "execution_count": 20,
   "id": "da3be7c0-e0f0-4e10-9ad6-d6023b7ceb2a",
   "metadata": {},
   "outputs": [],
   "source": [
    "def test(list):\n",
    "    ''' function used to take out odd number from the list'''\n",
    "    l1 = [] \n",
    "    for i in range(26):\n",
    "        if i %2 :\n",
    "            l1.append(i)\n",
    "    return l1\n",
    "            "
   ]
  },
  {
   "cell_type": "code",
   "execution_count": 18,
   "id": "5d2a4064-647b-416e-8e5c-6b5523ab6171",
   "metadata": {},
   "outputs": [
    {
     "data": {
      "text/plain": [
       "[1, 3, 5, 7, 9, 11, 13, 15, 17, 19, 21, 23, 25]"
      ]
     },
     "execution_count": 18,
     "metadata": {},
     "output_type": "execute_result"
    }
   ],
   "source": [
    "test(list)"
   ]
  },
  {
   "cell_type": "code",
   "execution_count": null,
   "id": "1e1b9039-10ed-4d14-b679-a22f4a7de791",
   "metadata": {},
   "outputs": [],
   "source": [
    "#Q2 *args is used to append the elements in functions "
   ]
  },
  {
   "cell_type": "code",
   "execution_count": 14,
   "id": "d58e48a8-4a4c-46f4-9746-aaafd65084a7",
   "metadata": {},
   "outputs": [],
   "source": [
    "def test1(*args,a):\n",
    "    return args,a"
   ]
  },
  {
   "cell_type": "code",
   "execution_count": 15,
   "id": "695f9703-6564-40d7-8c02-c62f4240405f",
   "metadata": {},
   "outputs": [
    {
     "data": {
      "text/plain": [
       "((1, 2, 3, 4), 45)"
      ]
     },
     "execution_count": 15,
     "metadata": {},
     "output_type": "execute_result"
    }
   ],
   "source": [
    "test1(1,2,3,4,a = 45)"
   ]
  },
  {
   "cell_type": "code",
   "execution_count": 16,
   "id": "b7d36c11-10fe-49c9-8b3b-7c0ff7cae7bc",
   "metadata": {},
   "outputs": [],
   "source": [
    "# **kwargs is used for making dictionary"
   ]
  },
  {
   "cell_type": "code",
   "execution_count": 17,
   "id": "aac3fbac-1895-40b7-bd18-7013747cdc33",
   "metadata": {},
   "outputs": [],
   "source": [
    "def test2(**kwargs):\n",
    "    return kwargs"
   ]
  },
  {
   "cell_type": "code",
   "execution_count": 19,
   "id": "059c7d6f-dc9c-4f21-a859-695602592501",
   "metadata": {},
   "outputs": [
    {
     "data": {
      "text/plain": [
       "{'a': [12, 23, 34, 56], 'b': ['ashutosh', 'tiwari', 'startup']}"
      ]
     },
     "execution_count": 19,
     "metadata": {},
     "output_type": "execute_result"
    }
   ],
   "source": [
    "test2(a = [12,23,34,56], b = [\"ashutosh\", \"tiwari\", \"startup\"])"
   ]
  },
  {
   "cell_type": "code",
   "execution_count": 20,
   "id": "cf683b74-5609-441d-be7e-f7ebe312e61f",
   "metadata": {},
   "outputs": [],
   "source": [
    "# Q3 iterator helps element to go in a loop again and again "
   ]
  },
  {
   "cell_type": "code",
   "execution_count": 21,
   "id": "c8c9cf23-184b-4d0b-82c4-e71331e5a9f1",
   "metadata": {},
   "outputs": [],
   "source": [
    "list = [2,4,6,8,10,12,14,16,18,20]"
   ]
  },
  {
   "cell_type": "code",
   "execution_count": 29,
   "id": "f1e6e9c3-b70a-4241-89e5-36442dc2d1bc",
   "metadata": {},
   "outputs": [
    {
     "data": {
      "text/plain": [
       "[2, 4, 6, 8, 10]"
      ]
     },
     "execution_count": 29,
     "metadata": {},
     "output_type": "execute_result"
    }
   ],
   "source": [
    "list[0:5:1]"
   ]
  },
  {
   "cell_type": "code",
   "execution_count": 30,
   "id": "7733e186-8997-4b6a-90cf-daf61928f325",
   "metadata": {},
   "outputs": [],
   "source": [
    "# Q4 generator functions "
   ]
  },
  {
   "cell_type": "code",
   "execution_count": 38,
   "id": "fbbc8aa9-70b3-400d-91e2-ae7a3352342a",
   "metadata": {},
   "outputs": [],
   "source": [
    "# yield is used to throw the data "
   ]
  },
  {
   "cell_type": "code",
   "execution_count": 39,
   "id": "98d0164f-1c3f-4058-ae49-8e853e66a159",
   "metadata": {},
   "outputs": [],
   "source": [
    "def test_fib(n):\n",
    "    a,b = 0,1\n",
    "    for i in range(n):\n",
    "        yield a \n",
    "        a,b = b,a*b\n",
    "        \n",
    "        \n",
    "    "
   ]
  },
  {
   "cell_type": "code",
   "execution_count": 40,
   "id": "37039b9a-2236-4ff5-a37d-e004902b4886",
   "metadata": {},
   "outputs": [
    {
     "name": "stdout",
     "output_type": "stream",
     "text": [
      "0\n",
      "1\n",
      "0\n",
      "0\n",
      "0\n"
     ]
    }
   ],
   "source": [
    "for i in test_fib(5):\n",
    "    print(i)"
   ]
  },
  {
   "cell_type": "code",
   "execution_count": 72,
   "id": "2785c9ae-50ff-4248-9df0-3600abc4ed00",
   "metadata": {},
   "outputs": [],
   "source": [
    "#Q6"
   ]
  },
  {
   "cell_type": "code",
   "execution_count": 81,
   "id": "191ce06a-4c79-4d47-8974-9aee543d0ad2",
   "metadata": {},
   "outputs": [],
   "source": [
    "def test_fib1():\n",
    "    a,b =0,1\n",
    "    while True :\n",
    "        yield a \n",
    "        a,b = b,a+b\n",
    "        \n",
    "        "
   ]
  },
  {
   "cell_type": "code",
   "execution_count": 82,
   "id": "fbbff855-5e95-428d-8760-05b84ca8d02f",
   "metadata": {},
   "outputs": [],
   "source": [
    "fib = test_fib1()"
   ]
  },
  {
   "cell_type": "code",
   "execution_count": 83,
   "id": "bf08380c-26f4-4eb2-8054-f82fa7bc1bd3",
   "metadata": {},
   "outputs": [
    {
     "name": "stdout",
     "output_type": "stream",
     "text": [
      "0\n",
      "1\n",
      "1\n",
      "2\n",
      "3\n",
      "5\n",
      "8\n",
      "13\n",
      "21\n",
      "34\n"
     ]
    }
   ],
   "source": [
    "for i in range(10):\n",
    "    print(next(fib))"
   ]
  },
  {
   "cell_type": "code",
   "execution_count": 120,
   "id": "7e789120-2f84-495c-b07e-5e68525a85a8",
   "metadata": {},
   "outputs": [],
   "source": [
    "#Q7 "
   ]
  },
  {
   "cell_type": "code",
   "execution_count": 107,
   "id": "5e1abff7-c892-4373-a62e-25ba610be45b",
   "metadata": {},
   "outputs": [],
   "source": [
    "list = [\"pwskills\"]"
   ]
  },
  {
   "cell_type": "code",
   "execution_count": 118,
   "id": "25d8a0b0-9817-4cb9-90f2-4b8de2fc05d2",
   "metadata": {},
   "outputs": [],
   "source": [
    "r = iter(list)"
   ]
  },
  {
   "cell_type": "code",
   "execution_count": 119,
   "id": "e4b0908f-cd9c-4fa4-8a4c-30d74e227e98",
   "metadata": {},
   "outputs": [
    {
     "name": "stdout",
     "output_type": "stream",
     "text": [
      "pwskills\n"
     ]
    }
   ],
   "source": [
    "for i in list:\n",
    "    print(next(r))"
   ]
  },
  {
   "cell_type": "code",
   "execution_count": 121,
   "id": "be37d732-0da7-442b-8a11-4768403ad0b6",
   "metadata": {},
   "outputs": [],
   "source": [
    "#Q9 "
   ]
  },
  {
   "cell_type": "code",
   "execution_count": 122,
   "id": "959454ca-422e-48bc-8a2a-4024d5c72c23",
   "metadata": {},
   "outputs": [],
   "source": [
    "l1 = range(101)"
   ]
  },
  {
   "cell_type": "code",
   "execution_count": null,
   "id": "9bee4fb1-65ff-400e-8f63-add2d90e2ac2",
   "metadata": {},
   "outputs": [],
   "source": [
    "def test(l1):\n",
    "    ''' function used to take out odd number from the list'''\n",
    "    l2 = [] \n",
    "    for i in range(101):\n",
    "        if i %2 :\n",
    "            l2.append(i)\n",
    "    return l2"
   ]
  },
  {
   "cell_type": "code",
   "execution_count": 130,
   "id": "881a651d-daa0-4bd7-81c0-1afb9e830ff8",
   "metadata": {},
   "outputs": [
    {
     "data": {
      "text/plain": [
       "<generator object test at 0x7f9a57f28f90>"
      ]
     },
     "execution_count": 130,
     "metadata": {},
     "output_type": "execute_result"
    }
   ],
   "source": []
  },
  {
   "cell_type": "code",
   "execution_count": null,
   "id": "2b9cd5e7-8754-4b2e-a34a-0f2895a9c286",
   "metadata": {},
   "outputs": [],
   "source": []
  },
  {
   "cell_type": "code",
   "execution_count": null,
   "id": "3e6c1172-40b8-498b-81be-bdf984a7de8e",
   "metadata": {},
   "outputs": [],
   "source": []
  }
 ],
 "metadata": {
  "kernelspec": {
   "display_name": "Python 3 (ipykernel)",
   "language": "python",
   "name": "python3"
  },
  "language_info": {
   "codemirror_mode": {
    "name": "ipython",
    "version": 3
   },
   "file_extension": ".py",
   "mimetype": "text/x-python",
   "name": "python",
   "nbconvert_exporter": "python",
   "pygments_lexer": "ipython3",
   "version": "3.10.8"
  }
 },
 "nbformat": 4,
 "nbformat_minor": 5
}
